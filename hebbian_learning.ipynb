{
 "cells": [
  {
   "cell_type": "code",
   "execution_count": 1,
   "id": "5fa6505f",
   "metadata": {},
   "outputs": [
    {
     "name": "stdout",
     "output_type": "stream",
     "text": [
      "Requirement already satisfied: numpy in c:\\users\\govt1\\anaconda3\\lib\\site-packages (1.21.5)Note: you may need to restart the kernel to use updated packages.\n",
      "\n"
     ]
    }
   ],
   "source": [
    "pip install numpy"
   ]
  },
  {
   "cell_type": "code",
   "execution_count": 2,
   "id": "fc7e09c0",
   "metadata": {},
   "outputs": [
    {
     "name": "stdout",
     "output_type": "stream",
     "text": [
      "Requirement already satisfied: pandas in c:\\users\\govt1\\anaconda3\\lib\\site-packages (1.4.2)\n",
      "Requirement already satisfied: python-dateutil>=2.8.1 in c:\\users\\govt1\\anaconda3\\lib\\site-packages (from pandas) (2.8.2)\n",
      "Requirement already satisfied: pytz>=2020.1 in c:\\users\\govt1\\anaconda3\\lib\\site-packages (from pandas) (2021.3)\n",
      "Requirement already satisfied: numpy>=1.18.5 in c:\\users\\govt1\\anaconda3\\lib\\site-packages (from pandas) (1.21.5)\n",
      "Requirement already satisfied: six>=1.5 in c:\\users\\govt1\\anaconda3\\lib\\site-packages (from python-dateutil>=2.8.1->pandas) (1.16.0)\n",
      "Note: you may need to restart the kernel to use updated packages.\n"
     ]
    }
   ],
   "source": [
    "pip install pandas"
   ]
  },
  {
   "cell_type": "code",
   "execution_count": 3,
   "id": "520271f6",
   "metadata": {},
   "outputs": [
    {
     "name": "stdout",
     "output_type": "stream",
     "text": [
      "Requirement already satisfied: tensorflow in c:\\users\\govt1\\anaconda3\\lib\\site-packages (2.9.1)\n",
      "Requirement already satisfied: packaging in c:\\users\\govt1\\anaconda3\\lib\\site-packages (from tensorflow) (21.3)\n",
      "Requirement already satisfied: flatbuffers<2,>=1.12 in c:\\users\\govt1\\anaconda3\\lib\\site-packages (from tensorflow) (1.12)\n",
      "Requirement already satisfied: tensorboard<2.10,>=2.9 in c:\\users\\govt1\\anaconda3\\lib\\site-packages (from tensorflow) (2.9.1)\n",
      "Requirement already satisfied: keras<2.10.0,>=2.9.0rc0 in c:\\users\\govt1\\anaconda3\\lib\\site-packages (from tensorflow) (2.9.0)\n",
      "Requirement already satisfied: grpcio<2.0,>=1.24.3 in c:\\users\\govt1\\anaconda3\\lib\\site-packages (from tensorflow) (1.42.0)\n",
      "Requirement already satisfied: setuptools in c:\\users\\govt1\\anaconda3\\lib\\site-packages (from tensorflow) (61.2.0)\n",
      "Requirement already satisfied: google-pasta>=0.1.1 in c:\\users\\govt1\\anaconda3\\lib\\site-packages (from tensorflow) (0.2.0)\n",
      "Requirement already satisfied: typing-extensions>=3.6.6 in c:\\users\\govt1\\anaconda3\\lib\\site-packages (from tensorflow) (4.1.1)\n",
      "Requirement already satisfied: six>=1.12.0 in c:\\users\\govt1\\anaconda3\\lib\\site-packages (from tensorflow) (1.16.0)\n",
      "Requirement already satisfied: gast<=0.4.0,>=0.2.1 in c:\\users\\govt1\\anaconda3\\lib\\site-packages (from tensorflow) (0.4.0)\n",
      "Requirement already satisfied: termcolor>=1.1.0 in c:\\users\\govt1\\anaconda3\\lib\\site-packages (from tensorflow) (1.1.0)\n",
      "Requirement already satisfied: h5py>=2.9.0 in c:\\users\\govt1\\anaconda3\\lib\\site-packages (from tensorflow) (3.6.0)\n",
      "Requirement already satisfied: astunparse>=1.6.0 in c:\\users\\govt1\\anaconda3\\lib\\site-packages (from tensorflow) (1.6.3)\n",
      "Requirement already satisfied: tensorflow-io-gcs-filesystem>=0.23.1 in c:\\users\\govt1\\anaconda3\\lib\\site-packages (from tensorflow) (0.26.0)\n",
      "Requirement already satisfied: keras-preprocessing>=1.1.1 in c:\\users\\govt1\\anaconda3\\lib\\site-packages (from tensorflow) (1.1.2)\n",
      "Requirement already satisfied: protobuf<3.20,>=3.9.2 in c:\\users\\govt1\\anaconda3\\lib\\site-packages (from tensorflow) (3.19.1)\n",
      "Requirement already satisfied: numpy>=1.20 in c:\\users\\govt1\\anaconda3\\lib\\site-packages (from tensorflow) (1.21.5)\n",
      "Requirement already satisfied: libclang>=13.0.0 in c:\\users\\govt1\\anaconda3\\lib\\site-packages (from tensorflow) (14.0.1)\n",
      "Requirement already satisfied: wrapt>=1.11.0 in c:\\users\\govt1\\anaconda3\\lib\\site-packages (from tensorflow) (1.12.1)\n",
      "Requirement already satisfied: absl-py>=1.0.0 in c:\\users\\govt1\\anaconda3\\lib\\site-packages (from tensorflow) (1.1.0)\n",
      "Requirement already satisfied: opt-einsum>=2.3.2 in c:\\users\\govt1\\anaconda3\\lib\\site-packages (from tensorflow) (3.3.0)\n",
      "Requirement already satisfied: tensorflow-estimator<2.10.0,>=2.9.0rc0 in c:\\users\\govt1\\anaconda3\\lib\\site-packages (from tensorflow) (2.9.0)\n",
      "Requirement already satisfied: wheel<1.0,>=0.23.0 in c:\\users\\govt1\\anaconda3\\lib\\site-packages (from astunparse>=1.6.0->tensorflow) (0.37.1)\n",
      "Requirement already satisfied: werkzeug>=1.0.1 in c:\\users\\govt1\\anaconda3\\lib\\site-packages (from tensorboard<2.10,>=2.9->tensorflow) (2.0.3)\n",
      "Requirement already satisfied: tensorboard-plugin-wit>=1.6.0 in c:\\users\\govt1\\anaconda3\\lib\\site-packages (from tensorboard<2.10,>=2.9->tensorflow) (1.8.1)\n",
      "Requirement already satisfied: tensorboard-data-server<0.7.0,>=0.6.0 in c:\\users\\govt1\\anaconda3\\lib\\site-packages (from tensorboard<2.10,>=2.9->tensorflow) (0.6.1)\n",
      "Requirement already satisfied: google-auth-oauthlib<0.5,>=0.4.1 in c:\\users\\govt1\\anaconda3\\lib\\site-packages (from tensorboard<2.10,>=2.9->tensorflow) (0.4.6)\n",
      "Requirement already satisfied: markdown>=2.6.8 in c:\\users\\govt1\\anaconda3\\lib\\site-packages (from tensorboard<2.10,>=2.9->tensorflow) (3.3.4)\n",
      "Requirement already satisfied: requests<3,>=2.21.0 in c:\\users\\govt1\\anaconda3\\lib\\site-packages (from tensorboard<2.10,>=2.9->tensorflow) (2.27.1)\n",
      "Requirement already satisfied: google-auth<3,>=1.6.3 in c:\\users\\govt1\\anaconda3\\lib\\site-packages (from tensorboard<2.10,>=2.9->tensorflow) (1.33.0)\n",
      "Requirement already satisfied: cachetools<5.0,>=2.0.0 in c:\\users\\govt1\\anaconda3\\lib\\site-packages (from google-auth<3,>=1.6.3->tensorboard<2.10,>=2.9->tensorflow) (4.2.2)\n",
      "Requirement already satisfied: pyasn1-modules>=0.2.1 in c:\\users\\govt1\\anaconda3\\lib\\site-packages (from google-auth<3,>=1.6.3->tensorboard<2.10,>=2.9->tensorflow) (0.2.8)\n",
      "Requirement already satisfied: rsa<5,>=3.1.4 in c:\\users\\govt1\\anaconda3\\lib\\site-packages (from google-auth<3,>=1.6.3->tensorboard<2.10,>=2.9->tensorflow) (4.7.2)\n",
      "Requirement already satisfied: requests-oauthlib>=0.7.0 in c:\\users\\govt1\\anaconda3\\lib\\site-packages (from google-auth-oauthlib<0.5,>=0.4.1->tensorboard<2.10,>=2.9->tensorflow) (1.3.1)\n",
      "Requirement already satisfied: pyasn1<0.5.0,>=0.4.6 in c:\\users\\govt1\\anaconda3\\lib\\site-packages (from pyasn1-modules>=0.2.1->google-auth<3,>=1.6.3->tensorboard<2.10,>=2.9->tensorflow) (0.4.8)\n",
      "Requirement already satisfied: urllib3<1.27,>=1.21.1 in c:\\users\\govt1\\anaconda3\\lib\\site-packages (from requests<3,>=2.21.0->tensorboard<2.10,>=2.9->tensorflow) (1.26.9)\n",
      "Requirement already satisfied: idna<4,>=2.5 in c:\\users\\govt1\\anaconda3\\lib\\site-packages (from requests<3,>=2.21.0->tensorboard<2.10,>=2.9->tensorflow) (3.3)\n",
      "Requirement already satisfied: certifi>=2017.4.17 in c:\\users\\govt1\\anaconda3\\lib\\site-packages (from requests<3,>=2.21.0->tensorboard<2.10,>=2.9->tensorflow) (2021.10.8)\n",
      "Requirement already satisfied: charset-normalizer~=2.0.0 in c:\\users\\govt1\\anaconda3\\lib\\site-packages (from requests<3,>=2.21.0->tensorboard<2.10,>=2.9->tensorflow) (2.0.4)\n",
      "Requirement already satisfied: oauthlib>=3.0.0 in c:\\users\\govt1\\anaconda3\\lib\\site-packages (from requests-oauthlib>=0.7.0->google-auth-oauthlib<0.5,>=0.4.1->tensorboard<2.10,>=2.9->tensorflow) (3.2.0)\n",
      "Requirement already satisfied: pyparsing!=3.0.5,>=2.0.2 in c:\\users\\govt1\\anaconda3\\lib\\site-packages (from packaging->tensorflow) (3.0.4)\n",
      "Note: you may need to restart the kernel to use updated packages.\n"
     ]
    }
   ],
   "source": [
    "pip install tensorflow"
   ]
  },
  {
   "cell_type": "code",
   "execution_count": 4,
   "id": "696fb80b",
   "metadata": {},
   "outputs": [
    {
     "name": "stdout",
     "output_type": "stream",
     "text": [
      "Inputs [[ 1.  -2.   2.5  0. ]\n",
      " [ 1.   1.5 -0.5 -1. ]\n",
      " [-1.   0.   0.5 -1. ]]\n",
      "initial weights [1, -2, 1, 0.5]\n",
      "Training\n",
      "------------\n",
      "------------\n",
      "input x [ 1.  -2.   2.5  0. ]\n",
      "1 0 [ 2.  -4.   3.5  0.5]\n",
      "output 1\n",
      "------------\n",
      "------------\n",
      "input x [ 1.   1.5 -0.5 -1. ]\n",
      "1 1 [ 1.  -5.5  4.   1.5]\n",
      "output -1\n",
      "------------\n",
      "------------\n",
      "input x [-1.   0.   0.5 -1. ]\n",
      "1 2 [ 2.  -5.5  3.5  2.5]\n",
      "output -1\n",
      "------------\n",
      "------------\n",
      "input x [ 1.  -2.   2.5  0. ]\n",
      "2 0 [ 3.  -7.5  6.   2.5]\n",
      "output 1\n",
      "------------\n",
      "------------\n",
      "input x [ 1.   1.5 -0.5 -1. ]\n",
      "2 1 [ 2.  -9.   6.5  3.5]\n",
      "output -1\n",
      "------------\n",
      "------------\n",
      "input x [-1.   0.   0.5 -1. ]\n",
      "2 2 [ 3.  -9.   6.   4.5]\n",
      "output -1\n",
      "------------\n",
      "------------\n",
      "input x [ 1.  -2.   2.5  0. ]\n",
      "3 0 [  4.  -11.    8.5   4.5]\n",
      "output 1\n",
      "------------\n",
      "------------\n",
      "input x [ 1.   1.5 -0.5 -1. ]\n",
      "3 1 [  3.  -12.5   9.    5.5]\n",
      "output -1\n",
      "------------\n",
      "------------\n",
      "input x [-1.   0.   0.5 -1. ]\n",
      "3 2 [  4.  -12.5   8.5   6.5]\n",
      "output -1\n",
      "------------\n",
      "------------\n",
      "input x [ 1.  -2.   2.5  0. ]\n",
      "4 0 [  5.  -14.5  11.    6.5]\n",
      "output 1\n",
      "------------\n",
      "------------\n",
      "input x [ 1.   1.5 -0.5 -1. ]\n",
      "4 1 [  4.  -16.   11.5   7.5]\n",
      "output -1\n",
      "------------\n",
      "------------\n",
      "input x [-1.   0.   0.5 -1. ]\n",
      "4 2 [  5.  -16.   11.    8.5]\n",
      "output -1\n",
      "------------\n",
      "------------\n",
      "input x [ 1.  -2.   2.5  0. ]\n",
      "5 0 [  6.  -18.   13.5   8.5]\n",
      "output 1\n",
      "------------\n",
      "------------\n",
      "input x [ 1.   1.5 -0.5 -1. ]\n",
      "5 1 [  5.  -19.5  14.    9.5]\n",
      "output -1\n",
      "------------\n",
      "------------\n",
      "input x [-1.   0.   0.5 -1. ]\n",
      "5 2 [  6.  -19.5  13.5  10.5]\n",
      "output -1\n",
      "------------\n",
      "------------\n",
      "input x [ 1.  -2.   2.5  0. ]\n",
      "6 0 [  7.  -21.5  16.   10.5]\n",
      "output 1\n",
      "------------\n",
      "------------\n",
      "input x [ 1.   1.5 -0.5 -1. ]\n",
      "6 1 [  6.  -23.   16.5  11.5]\n",
      "output -1\n",
      "------------\n",
      "------------\n",
      "input x [-1.   0.   0.5 -1. ]\n",
      "6 2 [  7.  -23.   16.   12.5]\n",
      "output -1\n",
      "------------\n",
      "Final sets of weights [  7.  -23.   16.   12.5]\n"
     ]
    }
   ],
   "source": [
    "import numpy as np\n",
    "X = np.array([[1,-2,2.5,0],[1,1.5,-0.5,-1],[-1,0,0.5,-1]])\n",
    "print (\"Inputs\", X)\n",
    "w = ([1,-2,1,0.5])\n",
    "print (\"initial weights\", w)\n",
    "iterations = 7\n",
    "alpha = 1\n",
    "print (\"Training\")\n",
    "print (\"------------\")\n",
    "for n in range(1,iterations):\n",
    "    for i, x in enumerate(X):\n",
    "        net = np.dot(X[i],w)\n",
    "        if net >0:\n",
    "            out = 1\n",
    "        else:\n",
    "            out = -1\n",
    "        delta_w = (alpha)*(out)*x\n",
    "        w = w + delta_w\n",
    "        print (\"------------\")\n",
    "        print (\"input x\",x)\n",
    "        print (n, i, w)\n",
    "        print (\"output\",out)\n",
    "        print (\"------------\")\n",
    "print (\"Final sets of weights\", w)\n"
   ]
  },
  {
   "cell_type": "code",
   "execution_count": null,
   "id": "d6583924",
   "metadata": {},
   "outputs": [],
   "source": []
  }
 ],
 "metadata": {
  "kernelspec": {
   "display_name": "Python 3 (ipykernel)",
   "language": "python",
   "name": "python3"
  },
  "language_info": {
   "codemirror_mode": {
    "name": "ipython",
    "version": 3
   },
   "file_extension": ".py",
   "mimetype": "text/x-python",
   "name": "python",
   "nbconvert_exporter": "python",
   "pygments_lexer": "ipython3",
   "version": "3.9.12"
  }
 },
 "nbformat": 4,
 "nbformat_minor": 5
}
